{
  "nbformat": 4,
  "nbformat_minor": 0,
  "metadata": {
    "colab": {
      "name": "s_present.ipynb",
      "provenance": [],
      "collapsed_sections": []
    },
    "kernelspec": {
      "name": "python3",
      "display_name": "Python 3"
    },
    "language_info": {
      "name": "python"
    }
  },
  "cells": [
    {
      "cell_type": "code",
      "execution_count": null,
      "metadata": {
        "id": "jK1yeKSMb_3q"
      },
      "outputs": [],
      "source": [
        "#S-Box Layer\n",
        "s_box=[0xC,0x5,0x6,0xB,0x9,0x0,0xA,0xD,0x3,0xE,0xF,0x8,0x4,0x7,0x1,0x2]\n",
        "\n",
        "# Rotate left: 0b1001 --> 0b0011\n",
        "rol = lambda val, r_bits, max_bits: \\\n",
        "    (val << r_bits%max_bits) & (2**max_bits-1) | \\\n",
        "    ((val & (2**max_bits-1)) >> (max_bits-(r_bits%max_bits)))\n",
        "\n",
        "# Rotate right: 0b1001 --> 0b1100\n",
        "ror = lambda val, r_bits, max_bits: \\\n",
        "    ((val & (2**max_bits-1)) >> r_bits%max_bits) | \\\n",
        "    (val << (max_bits-(r_bits%max_bits)) & (2**max_bits-1))\n",
        "\n",
        "def genRoundKeys(key, rounds=32):\n",
        "    roundkeys = []\n",
        "    for i in range(1, rounds+1):\n",
        "        '''\n",
        "        At round i the 64-bit round key Ki = k63 k62 . . . k0 consists \n",
        "        of the 64 leftmost bits of the current contents of register K:\n",
        "        K_i = k63 k62 ...k0 = k79 k78 ...k16      \n",
        "        '''\n",
        "        roundkeys.append(key >> 16)\n",
        "\n",
        "        # After extracting Ki, the key register K = k79k78 . . . k0 is updated:\n",
        "\n",
        "        # the key register is rotated by 61 bit positions to the left\n",
        "        key = rol(key, 61, 80)\n",
        "\n",
        "        # the left-most four bits are passed through the present S-box\n",
        "        leftmost_four = key >> 76\n",
        "        sboxed_leftmost_four = s_box[leftmost_four] << 76 \n",
        "        rightmost_76 = (key & int('1' * 76, base=2))\n",
        "        key = sboxed_leftmost_four + rightmost_76\n",
        "\n",
        "        # the round_counter value i is exclusive-ored with bits k19 k18 k17 k16 k15 \n",
        "        # of K with the least significant bit of round_counter on the right\n",
        "        key ^= i << 15 \n",
        "    return roundkeys\n",
        "\n",
        "#############################################\n",
        "\n",
        "import numpy as np\n",
        "\n",
        "def Sbox(x):\n",
        "    temp_x = x & 0b1111\n",
        "    temp_y = x >> 4\n",
        "\n",
        "    table = [0xc, 0x5, 0x6, 0xb, 0x9, 0x00, 0xa, 0xd, 0x3, 0xe, 0xf, 0x8, 0x4, 0x7, 0x1, 0x2]\n",
        "    \n",
        "    temp_x = table[temp_x]\n",
        "    temp_y = table[temp_y]\n",
        "\n",
        "    temp = [0,0,0,0]\n",
        "    temp[0] = (temp_y & 0b0001)\n",
        "    temp[1] = (temp_y & 0b0010) >> 1\n",
        "    temp[2] = (temp_y & 0b0100) >> 2\n",
        "    temp[3] = (temp_y & 0b1000) >> 3\n",
        "\n",
        "    result = temp_x + temp[0] * 16 +  temp[1] * 32 + temp[2] * 64 + temp[3] * 128\n",
        "\n",
        "    return result\n",
        "\n",
        "def Permutation(x):\n",
        "\n",
        "    # 73625140\n",
        "    temp = [0,0,0,0,0,0,0,0]\n",
        "    temp[0] = x & 0b0001\n",
        "    temp[1] = (x & 0b0010) >> 1\n",
        "    temp[2] = (x & 0b0100) >> 2\n",
        "    temp[3] = (x & 0b1000) >> 3\n",
        "\n",
        "    temp[4] = (x & 0b00010000) >> 4\n",
        "    temp[5] = (x & 0b00100000) >> 5\n",
        "    temp[6] = (x & 0b01000000) >> 6\n",
        "    temp[7] = (x & 0b10000000) >> 7\n",
        "\n",
        "    result = 0\n",
        "    result = result + temp[0]\n",
        "    result = result + temp[4] * 2\n",
        "    result = result + temp[1] * 4\n",
        "    result = result + temp[5] * 8\n",
        "    result = result + temp[2] * 16\n",
        "    result = result + temp[6] * 32\n",
        "    result = result + temp[3] * 64\n",
        "    result = result + temp[7] * 128\n",
        "\n",
        "    return result\n",
        "\n",
        "'''\n",
        "for i in range(rounds-1):\n",
        "        state = addRoundKey(state, roundkeys[i])\n",
        "        state = sBoxLayer(state)\n",
        "        state = pLayer(state)\n",
        "    state = addRoundKey(state, roundkeys[rounds-1])\n",
        "\n",
        "'''\n",
        "def Present(pt0, key, rounds):\n",
        "    n = 2\n",
        "    s_roundkeys = [0,0,0,0,0,0,0,0,0,0,0]\n",
        "    roundkeys = genRoundKeys(key, rounds)\n",
        "    \n",
        "    for rnd in range(len(roundkeys)):         \n",
        "        intrnd = bin(roundkeys[rnd])[-4*n:] \n",
        "        s_roundkeys[rnd] = int(intrnd,2)\n",
        "        #print(s_roundkeys)\n",
        "    \n",
        "    for i in range(rounds-1):\n",
        "        pt0 = pt0 ^ s_roundkeys[i]\n",
        "        pt0 = Sbox(pt0)\n",
        "        pt0 = Permutation(pt0)\n",
        "    ct0 = pt0 ^ s_roundkeys[rounds-1]\n",
        "\n",
        "    return ct0"
      ]
    },
    {
      "cell_type": "code",
      "source": [
        "plain = 0\n",
        "key = 0"
      ],
      "metadata": {
        "id": "0YUJ3DWeqvvc"
      },
      "execution_count": null,
      "outputs": []
    },
    {
      "cell_type": "code",
      "source": [
        "ctdata = Present(plain, key, 11) # Round +1 해서 보기"
      ],
      "metadata": {
        "colab": {
          "base_uri": "https://localhost:8080/"
        },
        "id": "NKyS5WuhoeiP",
        "outputId": "1db02ef6-ace9-4603-ccb3-cbfb366b950b"
      },
      "execution_count": null,
      "outputs": [
        {
          "output_type": "stream",
          "name": "stdout",
          "text": [
            "0\n",
            "240\n",
            "89\n",
            "85\n",
            "98\n",
            "182\n",
            "247\n",
            "2\n",
            "248\n",
            "137\n"
          ]
        }
      ]
    },
    {
      "cell_type": "code",
      "source": [
        "hex(ctdata)"
      ],
      "metadata": {
        "colab": {
          "base_uri": "https://localhost:8080/",
          "height": 35
        },
        "id": "R-H-S12ExD4s",
        "outputId": "42f7ad58-2224-4630-e04b-0c363337e557"
      },
      "execution_count": null,
      "outputs": [
        {
          "output_type": "execute_result",
          "data": {
            "text/plain": [
              "'0xb'"
            ],
            "application/vnd.google.colaboratory.intrinsic+json": {
              "type": "string"
            }
          },
          "metadata": {},
          "execution_count": 92
        }
      ]
    }
  ]
}